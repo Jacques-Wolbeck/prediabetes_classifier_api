{
  "cells": [
    {
      "cell_type": "code",
      "execution_count": 1,
      "metadata": {
        "id": "o3aVoF0RpxiX"
      },
      "outputs": [],
      "source": [
        "import pandas as pd\n",
        "import numpy as np"
      ]
    },
    {
      "cell_type": "code",
      "execution_count": 2,
      "metadata": {
        "colab": {
          "base_uri": "https://localhost:8080/",
          "height": 613
        },
        "id": "E_KiD8mDrwPB",
        "outputId": "28540bb7-d348-4f79-eda4-10448d7f4aa6"
      },
      "outputs": [
        {
          "data": {
            "text/html": [
              "<div>\n",
              "<style scoped>\n",
              "    .dataframe tbody tr th:only-of-type {\n",
              "        vertical-align: middle;\n",
              "    }\n",
              "\n",
              "    .dataframe tbody tr th {\n",
              "        vertical-align: top;\n",
              "    }\n",
              "\n",
              "    .dataframe thead th {\n",
              "        text-align: right;\n",
              "    }\n",
              "</style>\n",
              "<table border=\"1\" class=\"dataframe\">\n",
              "  <thead>\n",
              "    <tr style=\"text-align: right;\">\n",
              "      <th></th>\n",
              "      <th>Diabetes_012</th>\n",
              "      <th>HighBP</th>\n",
              "      <th>HighChol</th>\n",
              "      <th>CholCheck</th>\n",
              "      <th>BMI</th>\n",
              "      <th>Smoker</th>\n",
              "      <th>Stroke</th>\n",
              "      <th>HeartDiseaseorAttack</th>\n",
              "      <th>PhysActivity</th>\n",
              "      <th>Fruits</th>\n",
              "      <th>...</th>\n",
              "      <th>AnyHealthcare</th>\n",
              "      <th>NoDocbcCost</th>\n",
              "      <th>GenHlth</th>\n",
              "      <th>MentHlth</th>\n",
              "      <th>PhysHlth</th>\n",
              "      <th>DiffWalk</th>\n",
              "      <th>Sex</th>\n",
              "      <th>Age</th>\n",
              "      <th>Education</th>\n",
              "      <th>Income</th>\n",
              "    </tr>\n",
              "  </thead>\n",
              "  <tbody>\n",
              "    <tr>\n",
              "      <th>0</th>\n",
              "      <td>0.0</td>\n",
              "      <td>1.0</td>\n",
              "      <td>1.0</td>\n",
              "      <td>1.0</td>\n",
              "      <td>40.0</td>\n",
              "      <td>1.0</td>\n",
              "      <td>0.0</td>\n",
              "      <td>0.0</td>\n",
              "      <td>0.0</td>\n",
              "      <td>0.0</td>\n",
              "      <td>...</td>\n",
              "      <td>1.0</td>\n",
              "      <td>0.0</td>\n",
              "      <td>5.0</td>\n",
              "      <td>18.0</td>\n",
              "      <td>15.0</td>\n",
              "      <td>1.0</td>\n",
              "      <td>0.0</td>\n",
              "      <td>9.0</td>\n",
              "      <td>4.0</td>\n",
              "      <td>3.0</td>\n",
              "    </tr>\n",
              "    <tr>\n",
              "      <th>1</th>\n",
              "      <td>0.0</td>\n",
              "      <td>0.0</td>\n",
              "      <td>0.0</td>\n",
              "      <td>0.0</td>\n",
              "      <td>25.0</td>\n",
              "      <td>1.0</td>\n",
              "      <td>0.0</td>\n",
              "      <td>0.0</td>\n",
              "      <td>1.0</td>\n",
              "      <td>0.0</td>\n",
              "      <td>...</td>\n",
              "      <td>0.0</td>\n",
              "      <td>1.0</td>\n",
              "      <td>3.0</td>\n",
              "      <td>0.0</td>\n",
              "      <td>0.0</td>\n",
              "      <td>0.0</td>\n",
              "      <td>0.0</td>\n",
              "      <td>7.0</td>\n",
              "      <td>6.0</td>\n",
              "      <td>1.0</td>\n",
              "    </tr>\n",
              "    <tr>\n",
              "      <th>2</th>\n",
              "      <td>0.0</td>\n",
              "      <td>1.0</td>\n",
              "      <td>1.0</td>\n",
              "      <td>1.0</td>\n",
              "      <td>28.0</td>\n",
              "      <td>0.0</td>\n",
              "      <td>0.0</td>\n",
              "      <td>0.0</td>\n",
              "      <td>0.0</td>\n",
              "      <td>1.0</td>\n",
              "      <td>...</td>\n",
              "      <td>1.0</td>\n",
              "      <td>1.0</td>\n",
              "      <td>5.0</td>\n",
              "      <td>30.0</td>\n",
              "      <td>30.0</td>\n",
              "      <td>1.0</td>\n",
              "      <td>0.0</td>\n",
              "      <td>9.0</td>\n",
              "      <td>4.0</td>\n",
              "      <td>8.0</td>\n",
              "    </tr>\n",
              "    <tr>\n",
              "      <th>3</th>\n",
              "      <td>0.0</td>\n",
              "      <td>1.0</td>\n",
              "      <td>0.0</td>\n",
              "      <td>1.0</td>\n",
              "      <td>27.0</td>\n",
              "      <td>0.0</td>\n",
              "      <td>0.0</td>\n",
              "      <td>0.0</td>\n",
              "      <td>1.0</td>\n",
              "      <td>1.0</td>\n",
              "      <td>...</td>\n",
              "      <td>1.0</td>\n",
              "      <td>0.0</td>\n",
              "      <td>2.0</td>\n",
              "      <td>0.0</td>\n",
              "      <td>0.0</td>\n",
              "      <td>0.0</td>\n",
              "      <td>0.0</td>\n",
              "      <td>11.0</td>\n",
              "      <td>3.0</td>\n",
              "      <td>6.0</td>\n",
              "    </tr>\n",
              "    <tr>\n",
              "      <th>4</th>\n",
              "      <td>0.0</td>\n",
              "      <td>1.0</td>\n",
              "      <td>1.0</td>\n",
              "      <td>1.0</td>\n",
              "      <td>24.0</td>\n",
              "      <td>0.0</td>\n",
              "      <td>0.0</td>\n",
              "      <td>0.0</td>\n",
              "      <td>1.0</td>\n",
              "      <td>1.0</td>\n",
              "      <td>...</td>\n",
              "      <td>1.0</td>\n",
              "      <td>0.0</td>\n",
              "      <td>2.0</td>\n",
              "      <td>3.0</td>\n",
              "      <td>0.0</td>\n",
              "      <td>0.0</td>\n",
              "      <td>0.0</td>\n",
              "      <td>11.0</td>\n",
              "      <td>5.0</td>\n",
              "      <td>4.0</td>\n",
              "    </tr>\n",
              "    <tr>\n",
              "      <th>5</th>\n",
              "      <td>0.0</td>\n",
              "      <td>1.0</td>\n",
              "      <td>1.0</td>\n",
              "      <td>1.0</td>\n",
              "      <td>25.0</td>\n",
              "      <td>1.0</td>\n",
              "      <td>0.0</td>\n",
              "      <td>0.0</td>\n",
              "      <td>1.0</td>\n",
              "      <td>1.0</td>\n",
              "      <td>...</td>\n",
              "      <td>1.0</td>\n",
              "      <td>0.0</td>\n",
              "      <td>2.0</td>\n",
              "      <td>0.0</td>\n",
              "      <td>2.0</td>\n",
              "      <td>0.0</td>\n",
              "      <td>1.0</td>\n",
              "      <td>10.0</td>\n",
              "      <td>6.0</td>\n",
              "      <td>8.0</td>\n",
              "    </tr>\n",
              "    <tr>\n",
              "      <th>6</th>\n",
              "      <td>0.0</td>\n",
              "      <td>1.0</td>\n",
              "      <td>0.0</td>\n",
              "      <td>1.0</td>\n",
              "      <td>30.0</td>\n",
              "      <td>1.0</td>\n",
              "      <td>0.0</td>\n",
              "      <td>0.0</td>\n",
              "      <td>0.0</td>\n",
              "      <td>0.0</td>\n",
              "      <td>...</td>\n",
              "      <td>1.0</td>\n",
              "      <td>0.0</td>\n",
              "      <td>3.0</td>\n",
              "      <td>0.0</td>\n",
              "      <td>14.0</td>\n",
              "      <td>0.0</td>\n",
              "      <td>0.0</td>\n",
              "      <td>9.0</td>\n",
              "      <td>6.0</td>\n",
              "      <td>7.0</td>\n",
              "    </tr>\n",
              "    <tr>\n",
              "      <th>7</th>\n",
              "      <td>0.0</td>\n",
              "      <td>1.0</td>\n",
              "      <td>1.0</td>\n",
              "      <td>1.0</td>\n",
              "      <td>25.0</td>\n",
              "      <td>1.0</td>\n",
              "      <td>0.0</td>\n",
              "      <td>0.0</td>\n",
              "      <td>1.0</td>\n",
              "      <td>0.0</td>\n",
              "      <td>...</td>\n",
              "      <td>1.0</td>\n",
              "      <td>0.0</td>\n",
              "      <td>3.0</td>\n",
              "      <td>0.0</td>\n",
              "      <td>0.0</td>\n",
              "      <td>1.0</td>\n",
              "      <td>0.0</td>\n",
              "      <td>11.0</td>\n",
              "      <td>4.0</td>\n",
              "      <td>4.0</td>\n",
              "    </tr>\n",
              "    <tr>\n",
              "      <th>8</th>\n",
              "      <td>2.0</td>\n",
              "      <td>1.0</td>\n",
              "      <td>1.0</td>\n",
              "      <td>1.0</td>\n",
              "      <td>30.0</td>\n",
              "      <td>1.0</td>\n",
              "      <td>0.0</td>\n",
              "      <td>1.0</td>\n",
              "      <td>0.0</td>\n",
              "      <td>1.0</td>\n",
              "      <td>...</td>\n",
              "      <td>1.0</td>\n",
              "      <td>0.0</td>\n",
              "      <td>5.0</td>\n",
              "      <td>30.0</td>\n",
              "      <td>30.0</td>\n",
              "      <td>1.0</td>\n",
              "      <td>0.0</td>\n",
              "      <td>9.0</td>\n",
              "      <td>5.0</td>\n",
              "      <td>1.0</td>\n",
              "    </tr>\n",
              "    <tr>\n",
              "      <th>9</th>\n",
              "      <td>0.0</td>\n",
              "      <td>0.0</td>\n",
              "      <td>0.0</td>\n",
              "      <td>1.0</td>\n",
              "      <td>24.0</td>\n",
              "      <td>0.0</td>\n",
              "      <td>0.0</td>\n",
              "      <td>0.0</td>\n",
              "      <td>0.0</td>\n",
              "      <td>0.0</td>\n",
              "      <td>...</td>\n",
              "      <td>1.0</td>\n",
              "      <td>0.0</td>\n",
              "      <td>2.0</td>\n",
              "      <td>0.0</td>\n",
              "      <td>0.0</td>\n",
              "      <td>0.0</td>\n",
              "      <td>1.0</td>\n",
              "      <td>8.0</td>\n",
              "      <td>4.0</td>\n",
              "      <td>3.0</td>\n",
              "    </tr>\n",
              "    <tr>\n",
              "      <th>10</th>\n",
              "      <td>2.0</td>\n",
              "      <td>0.0</td>\n",
              "      <td>0.0</td>\n",
              "      <td>1.0</td>\n",
              "      <td>25.0</td>\n",
              "      <td>1.0</td>\n",
              "      <td>0.0</td>\n",
              "      <td>0.0</td>\n",
              "      <td>1.0</td>\n",
              "      <td>1.0</td>\n",
              "      <td>...</td>\n",
              "      <td>1.0</td>\n",
              "      <td>0.0</td>\n",
              "      <td>3.0</td>\n",
              "      <td>0.0</td>\n",
              "      <td>0.0</td>\n",
              "      <td>0.0</td>\n",
              "      <td>1.0</td>\n",
              "      <td>13.0</td>\n",
              "      <td>6.0</td>\n",
              "      <td>8.0</td>\n",
              "    </tr>\n",
              "    <tr>\n",
              "      <th>11</th>\n",
              "      <td>0.0</td>\n",
              "      <td>1.0</td>\n",
              "      <td>1.0</td>\n",
              "      <td>1.0</td>\n",
              "      <td>34.0</td>\n",
              "      <td>1.0</td>\n",
              "      <td>0.0</td>\n",
              "      <td>0.0</td>\n",
              "      <td>0.0</td>\n",
              "      <td>1.0</td>\n",
              "      <td>...</td>\n",
              "      <td>1.0</td>\n",
              "      <td>0.0</td>\n",
              "      <td>3.0</td>\n",
              "      <td>0.0</td>\n",
              "      <td>30.0</td>\n",
              "      <td>1.0</td>\n",
              "      <td>0.0</td>\n",
              "      <td>10.0</td>\n",
              "      <td>5.0</td>\n",
              "      <td>1.0</td>\n",
              "    </tr>\n",
              "    <tr>\n",
              "      <th>12</th>\n",
              "      <td>0.0</td>\n",
              "      <td>0.0</td>\n",
              "      <td>0.0</td>\n",
              "      <td>1.0</td>\n",
              "      <td>26.0</td>\n",
              "      <td>1.0</td>\n",
              "      <td>0.0</td>\n",
              "      <td>0.0</td>\n",
              "      <td>0.0</td>\n",
              "      <td>0.0</td>\n",
              "      <td>...</td>\n",
              "      <td>1.0</td>\n",
              "      <td>0.0</td>\n",
              "      <td>3.0</td>\n",
              "      <td>0.0</td>\n",
              "      <td>15.0</td>\n",
              "      <td>0.0</td>\n",
              "      <td>0.0</td>\n",
              "      <td>7.0</td>\n",
              "      <td>5.0</td>\n",
              "      <td>7.0</td>\n",
              "    </tr>\n",
              "    <tr>\n",
              "      <th>13</th>\n",
              "      <td>2.0</td>\n",
              "      <td>1.0</td>\n",
              "      <td>1.0</td>\n",
              "      <td>1.0</td>\n",
              "      <td>28.0</td>\n",
              "      <td>0.0</td>\n",
              "      <td>0.0</td>\n",
              "      <td>0.0</td>\n",
              "      <td>0.0</td>\n",
              "      <td>0.0</td>\n",
              "      <td>...</td>\n",
              "      <td>1.0</td>\n",
              "      <td>0.0</td>\n",
              "      <td>4.0</td>\n",
              "      <td>0.0</td>\n",
              "      <td>0.0</td>\n",
              "      <td>1.0</td>\n",
              "      <td>0.0</td>\n",
              "      <td>11.0</td>\n",
              "      <td>4.0</td>\n",
              "      <td>6.0</td>\n",
              "    </tr>\n",
              "    <tr>\n",
              "      <th>14</th>\n",
              "      <td>0.0</td>\n",
              "      <td>0.0</td>\n",
              "      <td>1.0</td>\n",
              "      <td>1.0</td>\n",
              "      <td>33.0</td>\n",
              "      <td>1.0</td>\n",
              "      <td>1.0</td>\n",
              "      <td>0.0</td>\n",
              "      <td>1.0</td>\n",
              "      <td>0.0</td>\n",
              "      <td>...</td>\n",
              "      <td>1.0</td>\n",
              "      <td>1.0</td>\n",
              "      <td>4.0</td>\n",
              "      <td>30.0</td>\n",
              "      <td>28.0</td>\n",
              "      <td>0.0</td>\n",
              "      <td>0.0</td>\n",
              "      <td>4.0</td>\n",
              "      <td>6.0</td>\n",
              "      <td>2.0</td>\n",
              "    </tr>\n",
              "  </tbody>\n",
              "</table>\n",
              "<p>15 rows × 22 columns</p>\n",
              "</div>"
            ],
            "text/plain": [
              "    Diabetes_012  HighBP  HighChol  CholCheck   BMI  Smoker  Stroke  \\\n",
              "0            0.0     1.0       1.0        1.0  40.0     1.0     0.0   \n",
              "1            0.0     0.0       0.0        0.0  25.0     1.0     0.0   \n",
              "2            0.0     1.0       1.0        1.0  28.0     0.0     0.0   \n",
              "3            0.0     1.0       0.0        1.0  27.0     0.0     0.0   \n",
              "4            0.0     1.0       1.0        1.0  24.0     0.0     0.0   \n",
              "5            0.0     1.0       1.0        1.0  25.0     1.0     0.0   \n",
              "6            0.0     1.0       0.0        1.0  30.0     1.0     0.0   \n",
              "7            0.0     1.0       1.0        1.0  25.0     1.0     0.0   \n",
              "8            2.0     1.0       1.0        1.0  30.0     1.0     0.0   \n",
              "9            0.0     0.0       0.0        1.0  24.0     0.0     0.0   \n",
              "10           2.0     0.0       0.0        1.0  25.0     1.0     0.0   \n",
              "11           0.0     1.0       1.0        1.0  34.0     1.0     0.0   \n",
              "12           0.0     0.0       0.0        1.0  26.0     1.0     0.0   \n",
              "13           2.0     1.0       1.0        1.0  28.0     0.0     0.0   \n",
              "14           0.0     0.0       1.0        1.0  33.0     1.0     1.0   \n",
              "\n",
              "    HeartDiseaseorAttack  PhysActivity  Fruits  ...  AnyHealthcare  \\\n",
              "0                    0.0           0.0     0.0  ...            1.0   \n",
              "1                    0.0           1.0     0.0  ...            0.0   \n",
              "2                    0.0           0.0     1.0  ...            1.0   \n",
              "3                    0.0           1.0     1.0  ...            1.0   \n",
              "4                    0.0           1.0     1.0  ...            1.0   \n",
              "5                    0.0           1.0     1.0  ...            1.0   \n",
              "6                    0.0           0.0     0.0  ...            1.0   \n",
              "7                    0.0           1.0     0.0  ...            1.0   \n",
              "8                    1.0           0.0     1.0  ...            1.0   \n",
              "9                    0.0           0.0     0.0  ...            1.0   \n",
              "10                   0.0           1.0     1.0  ...            1.0   \n",
              "11                   0.0           0.0     1.0  ...            1.0   \n",
              "12                   0.0           0.0     0.0  ...            1.0   \n",
              "13                   0.0           0.0     0.0  ...            1.0   \n",
              "14                   0.0           1.0     0.0  ...            1.0   \n",
              "\n",
              "    NoDocbcCost  GenHlth  MentHlth  PhysHlth  DiffWalk  Sex   Age  Education  \\\n",
              "0           0.0      5.0      18.0      15.0       1.0  0.0   9.0        4.0   \n",
              "1           1.0      3.0       0.0       0.0       0.0  0.0   7.0        6.0   \n",
              "2           1.0      5.0      30.0      30.0       1.0  0.0   9.0        4.0   \n",
              "3           0.0      2.0       0.0       0.0       0.0  0.0  11.0        3.0   \n",
              "4           0.0      2.0       3.0       0.0       0.0  0.0  11.0        5.0   \n",
              "5           0.0      2.0       0.0       2.0       0.0  1.0  10.0        6.0   \n",
              "6           0.0      3.0       0.0      14.0       0.0  0.0   9.0        6.0   \n",
              "7           0.0      3.0       0.0       0.0       1.0  0.0  11.0        4.0   \n",
              "8           0.0      5.0      30.0      30.0       1.0  0.0   9.0        5.0   \n",
              "9           0.0      2.0       0.0       0.0       0.0  1.0   8.0        4.0   \n",
              "10          0.0      3.0       0.0       0.0       0.0  1.0  13.0        6.0   \n",
              "11          0.0      3.0       0.0      30.0       1.0  0.0  10.0        5.0   \n",
              "12          0.0      3.0       0.0      15.0       0.0  0.0   7.0        5.0   \n",
              "13          0.0      4.0       0.0       0.0       1.0  0.0  11.0        4.0   \n",
              "14          1.0      4.0      30.0      28.0       0.0  0.0   4.0        6.0   \n",
              "\n",
              "    Income  \n",
              "0      3.0  \n",
              "1      1.0  \n",
              "2      8.0  \n",
              "3      6.0  \n",
              "4      4.0  \n",
              "5      8.0  \n",
              "6      7.0  \n",
              "7      4.0  \n",
              "8      1.0  \n",
              "9      3.0  \n",
              "10     8.0  \n",
              "11     1.0  \n",
              "12     7.0  \n",
              "13     6.0  \n",
              "14     2.0  \n",
              "\n",
              "[15 rows x 22 columns]"
            ]
          },
          "execution_count": 2,
          "metadata": {},
          "output_type": "execute_result"
        }
      ],
      "source": [
        "database = pd.read_csv('diabetes_012_health_indicators_BRFSS2015.csv')\n",
        "database.head(15)"
      ]
    },
    {
      "cell_type": "code",
      "execution_count": 3,
      "metadata": {
        "colab": {
          "base_uri": "https://localhost:8080/"
        },
        "id": "bG-1qgkLurKk",
        "outputId": "3912a88d-9cf2-414e-a3f1-7f849467600a"
      },
      "outputs": [
        {
          "name": "stdout",
          "output_type": "stream",
          "text": [
            "<class 'pandas.core.frame.DataFrame'>\n",
            "RangeIndex: 253680 entries, 0 to 253679\n",
            "Data columns (total 22 columns):\n",
            " #   Column                Non-Null Count   Dtype  \n",
            "---  ------                --------------   -----  \n",
            " 0   Diabetes_012          253680 non-null  float64\n",
            " 1   HighBP                253680 non-null  float64\n",
            " 2   HighChol              253680 non-null  float64\n",
            " 3   CholCheck             253680 non-null  float64\n",
            " 4   BMI                   253680 non-null  float64\n",
            " 5   Smoker                253680 non-null  float64\n",
            " 6   Stroke                253680 non-null  float64\n",
            " 7   HeartDiseaseorAttack  253680 non-null  float64\n",
            " 8   PhysActivity          253680 non-null  float64\n",
            " 9   Fruits                253680 non-null  float64\n",
            " 10  Veggies               253680 non-null  float64\n",
            " 11  HvyAlcoholConsump     253680 non-null  float64\n",
            " 12  AnyHealthcare         253680 non-null  float64\n",
            " 13  NoDocbcCost           253680 non-null  float64\n",
            " 14  GenHlth               253680 non-null  float64\n",
            " 15  MentHlth              253680 non-null  float64\n",
            " 16  PhysHlth              253680 non-null  float64\n",
            " 17  DiffWalk              253680 non-null  float64\n",
            " 18  Sex                   253680 non-null  float64\n",
            " 19  Age                   253680 non-null  float64\n",
            " 20  Education             253680 non-null  float64\n",
            " 21  Income                253680 non-null  float64\n",
            "dtypes: float64(22)\n",
            "memory usage: 42.6 MB\n"
          ]
        }
      ],
      "source": [
        "database.info()"
      ]
    },
    {
      "attachments": {},
      "cell_type": "markdown",
      "metadata": {
        "id": "z8IpNJc7oKqb"
      },
      "source": [
        "## **Pré-processamento dos Dados**"
      ]
    },
    {
      "cell_type": "code",
      "execution_count": 4,
      "metadata": {
        "colab": {
          "base_uri": "https://localhost:8080/"
        },
        "id": "VMCeMMFQyhxd",
        "outputId": "ecade1ac-f98c-407b-d2de-cdf9283d8574"
      },
      "outputs": [
        {
          "name": "stdout",
          "output_type": "stream",
          "text": [
            "<class 'pandas.core.frame.DataFrame'>\n",
            "RangeIndex: 253680 entries, 0 to 253679\n",
            "Data columns (total 22 columns):\n",
            " #   Column                Non-Null Count   Dtype\n",
            "---  ------                --------------   -----\n",
            " 0   Diabetes_012          253680 non-null  int32\n",
            " 1   HighBP                253680 non-null  int32\n",
            " 2   HighChol              253680 non-null  int32\n",
            " 3   CholCheck             253680 non-null  int32\n",
            " 4   BMI                   253680 non-null  int32\n",
            " 5   Smoker                253680 non-null  int32\n",
            " 6   Stroke                253680 non-null  int32\n",
            " 7   HeartDiseaseorAttack  253680 non-null  int32\n",
            " 8   PhysActivity          253680 non-null  int32\n",
            " 9   Fruits                253680 non-null  int32\n",
            " 10  Veggies               253680 non-null  int32\n",
            " 11  HvyAlcoholConsump     253680 non-null  int32\n",
            " 12  AnyHealthcare         253680 non-null  int32\n",
            " 13  NoDocbcCost           253680 non-null  int32\n",
            " 14  GenHlth               253680 non-null  int32\n",
            " 15  MentHlth              253680 non-null  int32\n",
            " 16  PhysHlth              253680 non-null  int32\n",
            " 17  DiffWalk              253680 non-null  int32\n",
            " 18  Sex                   253680 non-null  int32\n",
            " 19  Age                   253680 non-null  int32\n",
            " 20  Education             253680 non-null  int32\n",
            " 21  Income                253680 non-null  int32\n",
            "dtypes: int32(22)\n",
            "memory usage: 21.3 MB\n"
          ]
        }
      ],
      "source": [
        "#transformando os dados em inteiros\n",
        "database[\"Diabetes_012\"] = database[\"Diabetes_012\"].astype(int)\n",
        "database[\"HighBP\"] = database[\"HighBP\"].astype(int)\n",
        "database[\"HighChol\"] = database[\"HighChol\"].astype(int)\n",
        "database[\"CholCheck\"] = database[\"CholCheck\"].astype(int)\n",
        "database[\"BMI\"] = database[\"BMI\"].astype(int)\n",
        "database[\"Smoker\"] = database[\"Smoker\"].astype(int)\n",
        "database[\"Stroke\"] = database[\"Stroke\"].astype(int)\n",
        "database[\"HeartDiseaseorAttack\"] = database[\"HeartDiseaseorAttack\"].astype(int)\n",
        "database[\"PhysActivity\"] = database[\"PhysActivity\"].astype(int)\n",
        "database[\"Fruits\"] = database[\"Fruits\"].astype(int) \n",
        "database[\"Veggies\"] = database[\"Veggies\"].astype(int)\n",
        "database[\"HvyAlcoholConsump\"] = database[\"HvyAlcoholConsump\"].astype(int)\n",
        "database[\"AnyHealthcare\"] = database[\"AnyHealthcare\"].astype(int)\n",
        "database[\"NoDocbcCost\"] = database[\"NoDocbcCost\"].astype(int)\n",
        "database[\"GenHlth\"] = database[\"GenHlth\"].astype(int)\n",
        "database[\"MentHlth\"] = database[\"MentHlth\"].astype(int)\n",
        "database[\"PhysHlth\"] = database[\"PhysHlth\"].astype(int)\n",
        "database[\"DiffWalk\"] = database[\"DiffWalk\"].astype(int)\n",
        "database[\"Sex\"] = database[\"Sex\"].astype(int)\n",
        "database[\"Age\"] = database[\"Age\"].astype(int)\n",
        "database[\"Education\"] = database[\"Education\"].astype(int)\n",
        "database[\"Income\"] = database[\"Income\"].astype(int)\n",
        "database.info()"
      ]
    },
    {
      "cell_type": "code",
      "execution_count": 5,
      "metadata": {
        "colab": {
          "base_uri": "https://localhost:8080/"
        },
        "id": "bJspiHZaoSpf",
        "outputId": "7977edb9-0d3d-4bb7-8ce8-c2f0fb9550a7"
      },
      "outputs": [
        {
          "data": {
            "text/plain": [
              "Diabetes_binary         0\n",
              "HighBP                  0\n",
              "HighChol                0\n",
              "CholCheck               0\n",
              "BMI                     0\n",
              "Smoker                  0\n",
              "Stroke                  0\n",
              "HeartDiseaseorAttack    0\n",
              "PhysActivity            0\n",
              "Fruits                  0\n",
              "Veggies                 0\n",
              "HvyAlcoholConsump       0\n",
              "AnyHealthcare           0\n",
              "NoDocbcCost             0\n",
              "GenHlth                 0\n",
              "MentHlth                0\n",
              "PhysHlth                0\n",
              "DiffWalk                0\n",
              "Sex                     0\n",
              "Age                     0\n",
              "Education               0\n",
              "Income                  0\n",
              "dtype: int64"
            ]
          },
          "execution_count": 5,
          "metadata": {},
          "output_type": "execute_result"
        }
      ],
      "source": [
        "database.loc[database['Diabetes_012'] == 2, 'Diabetes_012'] = np.nan\n",
        "database.dropna(inplace = True)\n",
        "database.rename(columns={\"Diabetes_012\":\"Diabetes_binary\"}, inplace = True)\n",
        "database.isnull().sum()"
      ]
    },
    {
      "attachments": {},
      "cell_type": "markdown",
      "metadata": {
        "id": "S46EFQrXtmip"
      },
      "source": [
        "As linhas onde 'Diabetes_012' eram igual a 2 foram descartadas, pois só analisaremos os casos onde o paciente não tem diabetes(0) ou é pré-diabético(1)"
      ]
    },
    {
      "cell_type": "code",
      "execution_count": 6,
      "metadata": {
        "colab": {
          "base_uri": "https://localhost:8080/"
        },
        "id": "o-xSORpZlgZI",
        "outputId": "8260f6e3-7c54-42c7-87e0-80308525920c"
      },
      "outputs": [
        {
          "data": {
            "text/plain": [
              "23650"
            ]
          },
          "execution_count": 6,
          "metadata": {},
          "output_type": "execute_result"
        }
      ],
      "source": [
        "#contabilizando os dados duplicados\n",
        "database.duplicated().sum()"
      ]
    },
    {
      "cell_type": "code",
      "execution_count": 7,
      "metadata": {
        "colab": {
          "base_uri": "https://localhost:8080/"
        },
        "id": "CcDTStCAmDkx",
        "outputId": "c48e4eb9-cfe7-4c18-9ef1-50c7483a3bd2"
      },
      "outputs": [
        {
          "data": {
            "text/plain": [
              "0"
            ]
          },
          "execution_count": 7,
          "metadata": {},
          "output_type": "execute_result"
        }
      ],
      "source": [
        "#excluindo os dados duplicados\n",
        "database.drop_duplicates(inplace = True)\n",
        "database.duplicated().sum()"
      ]
    },
    {
      "cell_type": "code",
      "execution_count": 8,
      "metadata": {
        "colab": {
          "base_uri": "https://localhost:8080/"
        },
        "id": "1OH7Cd4YmXSq",
        "outputId": "ad1cb711-151b-4389-bd9c-a7eadb66c47b"
      },
      "outputs": [
        {
          "data": {
            "text/plain": [
              "(194684, 22)"
            ]
          },
          "execution_count": 8,
          "metadata": {},
          "output_type": "execute_result"
        }
      ],
      "source": [
        "database.shape"
      ]
    },
    {
      "cell_type": "code",
      "execution_count": 9,
      "metadata": {
        "colab": {
          "base_uri": "https://localhost:8080/"
        },
        "id": "xUDOm7rqXMPp",
        "outputId": "12ca53d2-073a-4033-8ed3-ae5c452762c9"
      },
      "outputs": [
        {
          "data": {
            "text/plain": [
              "Diabetes_binary\n",
              "0.0    9503\n",
              "1.0    4629\n",
              "Name: count, dtype: int64"
            ]
          },
          "execution_count": 9,
          "metadata": {},
          "output_type": "execute_result"
        }
      ],
      "source": [
        "#Diminuindo um pouco o dataset em relação a classe 'No Diabetes'\n",
        "database = pd.concat([database[database.Diabetes_binary == 0].sample(frac = 0.05) , database[database.Diabetes_binary == 1]])\n",
        "database['Diabetes_binary'].value_counts()"
      ]
    },
    {
      "attachments": {},
      "cell_type": "markdown",
      "metadata": {
        "id": "foft6DgSBkAK"
      },
      "source": [
        "# **Aprendizado de Máquina** "
      ]
    },
    {
      "cell_type": "code",
      "execution_count": 10,
      "metadata": {
        "id": "jaIqQIn6BrAW"
      },
      "outputs": [],
      "source": [
        "#separando os dados em 'features' e 'target' para usar nos algoritmos de classificação\n",
        "features = ['GenHlth',\n",
        "            'HighBP',\n",
        "            'HighChol',\n",
        "            'BMI',\n",
        "            'Income',\n",
        "            'DiffWalk',\n",
        "            'Age',\n",
        "            'PhysHlth',\n",
        "            'Education',\n",
        "            'HeartDiseaseorAttack',\n",
        "            'PhysActivity',\n",
        "            'MentHlth',\n",
        "            'CholCheck',\n",
        "    \n",
        "]\n",
        "\n",
        "target = ['Diabetes_binary']\n",
        "\n",
        "X = database[features]\n",
        "y = database[target]"
      ]
    },
    {
      "cell_type": "code",
      "execution_count": 11,
      "metadata": {
        "colab": {
          "base_uri": "https://localhost:8080/"
        },
        "id": "ww9CYXPOCzXf",
        "outputId": "237a5b00-536f-4983-8c79-17a478356163"
      },
      "outputs": [
        {
          "data": {
            "text/plain": [
              "GenHlth                 0\n",
              "HighBP                  0\n",
              "HighChol                0\n",
              "BMI                     0\n",
              "Income                  0\n",
              "DiffWalk                0\n",
              "Age                     0\n",
              "PhysHlth                0\n",
              "Education               0\n",
              "HeartDiseaseorAttack    0\n",
              "PhysActivity            0\n",
              "MentHlth                0\n",
              "CholCheck               0\n",
              "dtype: int64"
            ]
          },
          "execution_count": 11,
          "metadata": {},
          "output_type": "execute_result"
        }
      ],
      "source": [
        "X.isnull().sum()"
      ]
    },
    {
      "cell_type": "code",
      "execution_count": 12,
      "metadata": {
        "colab": {
          "base_uri": "https://localhost:8080/",
          "height": 519
        },
        "id": "Fw-dLmLHjqpN",
        "outputId": "4287d2b1-0f47-4e0a-b731-159ce4ca8f16"
      },
      "outputs": [
        {
          "ename": "ImportError",
          "evalue": "cannot import name '_MissingValues' from 'sklearn.utils._param_validation' (c:\\Users\\jacqu\\OneDrive\\Documentos\\GitHub\\tcc_machine_learning\\.venv\\Lib\\site-packages\\sklearn\\utils\\_param_validation.py)",
          "output_type": "error",
          "traceback": [
            "\u001b[1;31m---------------------------------------------------------------------------\u001b[0m",
            "\u001b[1;31mImportError\u001b[0m                               Traceback (most recent call last)",
            "Cell \u001b[1;32mIn[12], line 1\u001b[0m\n\u001b[1;32m----> 1\u001b[0m \u001b[39mfrom\u001b[39;00m \u001b[39mimblearn\u001b[39;00m\u001b[39m.\u001b[39;00m\u001b[39munder_sampling\u001b[39;00m \u001b[39mimport\u001b[39;00m RandomUnderSampler, NearMiss\n\u001b[0;32m      2\u001b[0m \u001b[39mfrom\u001b[39;00m \u001b[39mimblearn\u001b[39;00m\u001b[39m.\u001b[39;00m\u001b[39mover_sampling\u001b[39;00m \u001b[39mimport\u001b[39;00m SMOTE, RandomOverSampler\n\u001b[0;32m      3\u001b[0m \u001b[39m'''como os dados estão bastante desbalaceados, será realizada a estratégia de over sampling conhecida como SMOTE(Synthetic Minority Over-sampling Technique), ou seja, serão gerados novas instâncias sintéticas da classe minoritária \u001b[39;00m\n\u001b[0;32m      4\u001b[0m \u001b[39mafim de equilibrar com a quantidade de dados das pessoas não diabéticas (classe majoritária)'''\u001b[39;00m\n",
            "File \u001b[1;32mc:\\Users\\jacqu\\OneDrive\\Documentos\\GitHub\\tcc_machine_learning\\.venv\\Lib\\site-packages\\imblearn\\__init__.py:52\u001b[0m\n\u001b[0;32m     48\u001b[0m     sys\u001b[39m.\u001b[39mstderr\u001b[39m.\u001b[39mwrite(\u001b[39m\"\u001b[39m\u001b[39mPartial import of imblearn during the build process.\u001b[39m\u001b[39m\\n\u001b[39;00m\u001b[39m\"\u001b[39m)\n\u001b[0;32m     49\u001b[0m     \u001b[39m# We are not importing the rest of scikit-learn during the build\u001b[39;00m\n\u001b[0;32m     50\u001b[0m     \u001b[39m# process, as it may not be compiled yet\u001b[39;00m\n\u001b[0;32m     51\u001b[0m \u001b[39melse\u001b[39;00m:\n\u001b[1;32m---> 52\u001b[0m     \u001b[39mfrom\u001b[39;00m \u001b[39m.\u001b[39;00m \u001b[39mimport\u001b[39;00m (\n\u001b[0;32m     53\u001b[0m         combine,\n\u001b[0;32m     54\u001b[0m         ensemble,\n\u001b[0;32m     55\u001b[0m         exceptions,\n\u001b[0;32m     56\u001b[0m         metrics,\n\u001b[0;32m     57\u001b[0m         over_sampling,\n\u001b[0;32m     58\u001b[0m         pipeline,\n\u001b[0;32m     59\u001b[0m         tensorflow,\n\u001b[0;32m     60\u001b[0m         under_sampling,\n\u001b[0;32m     61\u001b[0m         utils,\n\u001b[0;32m     62\u001b[0m     )\n\u001b[0;32m     63\u001b[0m     \u001b[39mfrom\u001b[39;00m \u001b[39m.\u001b[39;00m\u001b[39m_version\u001b[39;00m \u001b[39mimport\u001b[39;00m __version__\n\u001b[0;32m     64\u001b[0m     \u001b[39mfrom\u001b[39;00m \u001b[39m.\u001b[39;00m\u001b[39mbase\u001b[39;00m \u001b[39mimport\u001b[39;00m FunctionSampler\n",
            "File \u001b[1;32mc:\\Users\\jacqu\\OneDrive\\Documentos\\GitHub\\tcc_machine_learning\\.venv\\Lib\\site-packages\\imblearn\\combine\\__init__.py:5\u001b[0m\n\u001b[0;32m      1\u001b[0m \u001b[39m\"\"\"The :mod:`imblearn.combine` provides methods which combine\u001b[39;00m\n\u001b[0;32m      2\u001b[0m \u001b[39mover-sampling and under-sampling.\u001b[39;00m\n\u001b[0;32m      3\u001b[0m \u001b[39m\"\"\"\u001b[39;00m\n\u001b[1;32m----> 5\u001b[0m \u001b[39mfrom\u001b[39;00m \u001b[39m.\u001b[39;00m\u001b[39m_smote_enn\u001b[39;00m \u001b[39mimport\u001b[39;00m SMOTEENN\n\u001b[0;32m      6\u001b[0m \u001b[39mfrom\u001b[39;00m \u001b[39m.\u001b[39;00m\u001b[39m_smote_tomek\u001b[39;00m \u001b[39mimport\u001b[39;00m SMOTETomek\n\u001b[0;32m      8\u001b[0m __all__ \u001b[39m=\u001b[39m [\u001b[39m\"\u001b[39m\u001b[39mSMOTEENN\u001b[39m\u001b[39m\"\u001b[39m, \u001b[39m\"\u001b[39m\u001b[39mSMOTETomek\u001b[39m\u001b[39m\"\u001b[39m]\n",
            "File \u001b[1;32mc:\\Users\\jacqu\\OneDrive\\Documentos\\GitHub\\tcc_machine_learning\\.venv\\Lib\\site-packages\\imblearn\\combine\\_smote_enn.py:12\u001b[0m\n\u001b[0;32m      9\u001b[0m \u001b[39mfrom\u001b[39;00m \u001b[39msklearn\u001b[39;00m\u001b[39m.\u001b[39;00m\u001b[39mbase\u001b[39;00m \u001b[39mimport\u001b[39;00m clone\n\u001b[0;32m     10\u001b[0m \u001b[39mfrom\u001b[39;00m \u001b[39msklearn\u001b[39;00m\u001b[39m.\u001b[39;00m\u001b[39mutils\u001b[39;00m \u001b[39mimport\u001b[39;00m check_X_y\n\u001b[1;32m---> 12\u001b[0m \u001b[39mfrom\u001b[39;00m \u001b[39m.\u001b[39;00m\u001b[39m.\u001b[39;00m\u001b[39mbase\u001b[39;00m \u001b[39mimport\u001b[39;00m BaseSampler\n\u001b[0;32m     13\u001b[0m \u001b[39mfrom\u001b[39;00m \u001b[39m.\u001b[39;00m\u001b[39m.\u001b[39;00m\u001b[39mover_sampling\u001b[39;00m \u001b[39mimport\u001b[39;00m SMOTE\n\u001b[0;32m     14\u001b[0m \u001b[39mfrom\u001b[39;00m \u001b[39m.\u001b[39;00m\u001b[39m.\u001b[39;00m\u001b[39mover_sampling\u001b[39;00m\u001b[39m.\u001b[39;00m\u001b[39mbase\u001b[39;00m \u001b[39mimport\u001b[39;00m BaseOverSampler\n",
            "File \u001b[1;32mc:\\Users\\jacqu\\OneDrive\\Documentos\\GitHub\\tcc_machine_learning\\.venv\\Lib\\site-packages\\imblearn\\base.py:21\u001b[0m\n\u001b[0;32m     18\u001b[0m \u001b[39mfrom\u001b[39;00m \u001b[39msklearn\u001b[39;00m\u001b[39m.\u001b[39;00m\u001b[39mutils\u001b[39;00m\u001b[39m.\u001b[39;00m\u001b[39mmulticlass\u001b[39;00m \u001b[39mimport\u001b[39;00m check_classification_targets\n\u001b[0;32m     20\u001b[0m \u001b[39mfrom\u001b[39;00m \u001b[39m.\u001b[39;00m\u001b[39mutils\u001b[39;00m \u001b[39mimport\u001b[39;00m check_sampling_strategy, check_target_type\n\u001b[1;32m---> 21\u001b[0m \u001b[39mfrom\u001b[39;00m \u001b[39m.\u001b[39;00m\u001b[39mutils\u001b[39;00m\u001b[39m.\u001b[39;00m\u001b[39m_param_validation\u001b[39;00m \u001b[39mimport\u001b[39;00m validate_parameter_constraints\n\u001b[0;32m     22\u001b[0m \u001b[39mfrom\u001b[39;00m \u001b[39m.\u001b[39;00m\u001b[39mutils\u001b[39;00m\u001b[39m.\u001b[39;00m\u001b[39m_validation\u001b[39;00m \u001b[39mimport\u001b[39;00m ArraysTransformer\n\u001b[0;32m     25\u001b[0m \u001b[39mclass\u001b[39;00m \u001b[39mSamplerMixin\u001b[39;00m(BaseEstimator, metaclass\u001b[39m=\u001b[39mABCMeta):\n",
            "File \u001b[1;32mc:\\Users\\jacqu\\OneDrive\\Documentos\\GitHub\\tcc_machine_learning\\.venv\\Lib\\site-packages\\imblearn\\utils\\_param_validation.py:908\u001b[0m\n\u001b[0;32m    906\u001b[0m \u001b[39mfrom\u001b[39;00m \u001b[39msklearn\u001b[39;00m\u001b[39m.\u001b[39;00m\u001b[39mutils\u001b[39;00m\u001b[39m.\u001b[39;00m\u001b[39m_param_validation\u001b[39;00m \u001b[39mimport\u001b[39;00m generate_valid_param  \u001b[39m# noqa\u001b[39;00m\n\u001b[0;32m    907\u001b[0m \u001b[39mfrom\u001b[39;00m \u001b[39msklearn\u001b[39;00m\u001b[39m.\u001b[39;00m\u001b[39mutils\u001b[39;00m\u001b[39m.\u001b[39;00m\u001b[39m_param_validation\u001b[39;00m \u001b[39mimport\u001b[39;00m validate_parameter_constraints  \u001b[39m# noqa\u001b[39;00m\n\u001b[1;32m--> 908\u001b[0m \u001b[39mfrom\u001b[39;00m \u001b[39msklearn\u001b[39;00m\u001b[39m.\u001b[39;00m\u001b[39mutils\u001b[39;00m\u001b[39m.\u001b[39;00m\u001b[39m_param_validation\u001b[39;00m \u001b[39mimport\u001b[39;00m (\n\u001b[0;32m    909\u001b[0m     HasMethods,\n\u001b[0;32m    910\u001b[0m     Hidden,\n\u001b[0;32m    911\u001b[0m     Interval,\n\u001b[0;32m    912\u001b[0m     Options,\n\u001b[0;32m    913\u001b[0m     StrOptions,\n\u001b[0;32m    914\u001b[0m     _ArrayLikes,\n\u001b[0;32m    915\u001b[0m     _Booleans,\n\u001b[0;32m    916\u001b[0m     _Callables,\n\u001b[0;32m    917\u001b[0m     _CVObjects,\n\u001b[0;32m    918\u001b[0m     _InstancesOf,\n\u001b[0;32m    919\u001b[0m     _IterablesNotString,\n\u001b[0;32m    920\u001b[0m     _MissingValues,\n\u001b[0;32m    921\u001b[0m     _NoneConstraint,\n\u001b[0;32m    922\u001b[0m     _PandasNAConstraint,\n\u001b[0;32m    923\u001b[0m     _RandomStates,\n\u001b[0;32m    924\u001b[0m     _SparseMatrices,\n\u001b[0;32m    925\u001b[0m     _VerboseHelper,\n\u001b[0;32m    926\u001b[0m     make_constraint,\n\u001b[0;32m    927\u001b[0m     validate_params,\n\u001b[0;32m    928\u001b[0m )\n",
            "\u001b[1;31mImportError\u001b[0m: cannot import name '_MissingValues' from 'sklearn.utils._param_validation' (c:\\Users\\jacqu\\OneDrive\\Documentos\\GitHub\\tcc_machine_learning\\.venv\\Lib\\site-packages\\sklearn\\utils\\_param_validation.py)"
          ]
        }
      ],
      "source": [
        "from imblearn.under_sampling import RandomUnderSampler, NearMiss\n",
        "from imblearn.over_sampling import SMOTE, RandomOverSampler\n",
        "'''como os dados estão bastante desbalaceados, será realizada a estratégia de over sampling conhecida como SMOTE(Synthetic Minority Over-sampling Technique), ou seja, serão gerados novas instâncias sintéticas da classe minoritária \n",
        "afim de equilibrar com a quantidade de dados das pessoas não diabéticas (classe majoritária)'''\n",
        "\n",
        "#rus = RandomUnderSampler(sampling_strategy='majority', random_state = 0)\n",
        "#X_under, y_under = rus.fit_resample(X, y)\n",
        "\n",
        "#nm = NearMiss(version = 1, n_neighbors = 10)\n",
        "#X_under, y_under = nm.fit_resample(X, y)\n",
        "\n",
        "#ros = RandomOverSampler(random_state=42)\n",
        "#X_over, y_over = ros.fit_resample(X, y)\n",
        "\n",
        "sm = SMOTE(random_state = 42)\n",
        "X_smote, y_smote = sm.fit_resample(X, y)\n",
        "\n",
        "\n",
        "X_smote.head(15)"
      ]
    },
    {
      "cell_type": "code",
      "execution_count": null,
      "metadata": {
        "colab": {
          "base_uri": "https://localhost:8080/"
        },
        "id": "-H2l-077U2v8",
        "outputId": "110271ce-3fde-4276-df8b-260abbf2de02"
      },
      "outputs": [
        {
          "data": {
            "text/plain": [
              "Diabetes_binary\n",
              "0.0                9503\n",
              "1.0                9503\n",
              "Name: count, dtype: int64"
            ]
          },
          "execution_count": 13,
          "metadata": {},
          "output_type": "execute_result"
        }
      ],
      "source": [
        "y_smote.value_counts()"
      ]
    },
    {
      "cell_type": "code",
      "execution_count": null,
      "metadata": {
        "id": "3hVwRffLDWAp"
      },
      "outputs": [],
      "source": [
        "#separando o dataset em dados de treino e de teste\n",
        "from sklearn.model_selection import train_test_split\n",
        "X_train,X_test,y_train,y_test = train_test_split(X_smote, y_smote, test_size = 0.25, random_state = 42)"
      ]
    },
    {
      "cell_type": "code",
      "execution_count": null,
      "metadata": {
        "id": "YmH9-e8_D20f"
      },
      "outputs": [],
      "source": [
        "#padronizando os dados de treino e teste\n",
        "from sklearn.preprocessing import StandardScaler\n",
        "scaler = StandardScaler()\n",
        "X_train = scaler.fit_transform(X_train)\n",
        "X_test = scaler.transform(X_test)"
      ]
    },
    {
      "cell_type": "code",
      "execution_count": null,
      "metadata": {
        "id": "mtzRvewuD76u"
      },
      "outputs": [],
      "source": [
        "from sklearn.linear_model import LogisticRegression\n",
        "from sklearn.neighbors import KNeighborsClassifier\n",
        "from sklearn.tree import DecisionTreeClassifier\n",
        "from sklearn.ensemble import RandomForestClassifier\n",
        "from sklearn.svm import SVC\n",
        "from sklearn.ensemble import GradientBoostingClassifier\n"
      ]
    },
    {
      "attachments": {},
      "cell_type": "markdown",
      "metadata": {
        "id": "C7bUv-hBrcdV"
      },
      "source": [
        "É possivel notar que o classificador com maior desempenho foi o 'Random Forest', agora iremos analisar mais afundo os dados, utilizando este modelo de classificação"
      ]
    },
    {
      "cell_type": "code",
      "execution_count": null,
      "metadata": {
        "colab": {
          "base_uri": "https://localhost:8080/",
          "height": 472
        },
        "id": "hvLUtCpqryw2",
        "outputId": "d8a3aaa1-371e-4db7-9264-9c26b3dbc7a1"
      },
      "outputs": [
        {
          "data": {
            "image/png": "[encoded data removed]",
            "text/plain": [
              "<Figure size 640x480 with 2 Axes>"
            ]
          },
          "metadata": {},
          "output_type": "display_data"
        }
      ],
      "source": [
        "#Gerando a matriz de confusão, baseado no algoritmo de classificação Random Forest\n",
        "best_model = RandomForestClassifier()\n",
        "best_model.fit(X_train, y_train.values.ravel())\n",
        "y_pred = best_model.predict(X_test)\n",
        "\n"
      ]
    },
    {
      "cell_type": "code",
      "execution_count": null,
      "metadata": {
        "id": "He9s9vKMP6mR"
      },
      "outputs": [
        {
          "name": "stdout",
          "output_type": "stream",
          "text": [
            "[0.]\n"
          ]
        },
        {
          "name": "stderr",
          "output_type": "stream",
          "text": [
            "c:\\Users\\jacqu\\AppData\\Local\\Programs\\Python\\Python311\\Lib\\site-packages\\sklearn\\base.py:432: UserWarning: X has feature names, but RandomForestClassifier was fitted without feature names\n",
            "  warnings.warn(\n"
          ]
        }
      ],
      "source": [
        "data = {'GenHlth': [1.0],\n",
        "            'HighBP': [0.0],\n",
        "            'HighChol': [1.0],\n",
        "            'BMI': [32.0],\n",
        "            'Income': [5.0],\n",
        "            'DiffWalk': [0.0],\n",
        "            'Age': [5.0],\n",
        "            'PhysHlth': [0.0],\n",
        "            'Education': [6.0],\n",
        "            'HeartDiseaseorAttack': [0.0],\n",
        "            'PhysActivity': [0.0],\n",
        "            'MentHlth': [3.0],\n",
        "            'CholCheck': [1.0]}\n",
        "x_new_test = pd.DataFrame(data);\n",
        "#x_new_test.head()\n",
        "print(best_model.predict(x_new_test))"
      ]
    },
    {
      "cell_type": "code",
      "execution_count": null,
      "metadata": {},
      "outputs": [
        {
          "name": "stdout",
          "output_type": "stream",
          "text": [
            "GenHlth                  3\n",
            "HighBP                   1\n",
            "HighChol                 1\n",
            "BMI                     28\n",
            "Income                   8\n",
            "DiffWalk                 0\n",
            "Age                      9\n",
            "PhysHlth                 2\n",
            "Education                6\n",
            "HeartDiseaseorAttack     0\n",
            "PhysActivity             1\n",
            "MentHlth                 0\n",
            "CholCheck                1\n",
            "Name: 153, dtype: int32\n"
          ]
        }
      ],
      "source": [
        "\n",
        "#x_new_test.head()\n",
        "print(X_smote.iloc[153])\n",
        "#print(best_model.predict(X_smote.iloc[153]))"
      ]
    }
  ],
  "metadata": {
    "colab": {
      "provenance": []
    },
    "kernelspec": {
      "display_name": "Python 3",
      "name": "python3"
    },
    "language_info": {
      "codemirror_mode": {
        "name": "ipython",
        "version": 3
      },
      "file_extension": ".py",
      "mimetype": "text/x-python",
      "name": "python",
      "nbconvert_exporter": "python",
      "pygments_lexer": "ipython3",
      "version": "3.11.4"
    }
  },
  "nbformat": 4,
  "nbformat_minor": 0
}
